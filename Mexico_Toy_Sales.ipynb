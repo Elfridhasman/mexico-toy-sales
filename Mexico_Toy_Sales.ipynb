{
 "cells": [
  {
   "cell_type": "code",
   "execution_count": 8,
   "metadata": {},
   "outputs": [],
   "source": [
    "import pandas as pd\n",
    "from sqlalchemy import create_engine\n",
    "\n",
    "inventory = pd.read_csv(r\"C:\\Users\\Alihdaya\\OneDrive - 文理书院\\Infomedia\\OneDrive - 文理书院\\Desktop\\Maven+Toys+Data\\inventory.csv\")\n",
    "products = pd.read_csv(r\"C:\\Users\\Alihdaya\\OneDrive - 文理书院\\Infomedia\\OneDrive - 文理书院\\Desktop\\Maven+Toys+Data\\products.csv\")\n",
    "sales = pd.read_csv(r\"C:\\Users\\Alihdaya\\OneDrive - 文理书院\\Infomedia\\OneDrive - 文理书院\\Desktop\\Maven+Toys+Data\\sales.csv\")\n",
    "stores = pd.read_csv(r\"C:\\Users\\Alihdaya\\OneDrive - 文理书院\\Infomedia\\OneDrive - 文理书院\\Desktop\\Maven+Toys+Data\\stores.csv\")\n",
    "\n",
    "engine = create_engine('mysql+pymysql://root:@localhost/mexico_toy_sales')\n",
    "\n",
    "inventory.to_sql(name='inventory', con=engine, if_exists='replace', index=False)\n",
    "products.to_sql(name='products', con=engine, if_exists='replace', index=False)\n",
    "sales.to_sql(name='sales', con=engine, if_exists='replace', index=False)\n",
    "stores.to_sql(name='stores', con=engine, if_exists='replace', index=False)\n"
   ]
  }
 ],
 "metadata": {
  "kernelspec": {
   "display_name": "Python 3",
   "language": "python",
   "name": "python3"
  },
  "language_info": {
   "codemirror_mode": {
    "name": "ipython",
    "version": 3
   },
   "file_extension": ".py",
   "mimetype": "text/x-python",
   "name": "python",
   "nbconvert_exporter": "python",
   "pygments_lexer": "ipython3",
   "version": "3.9.6"
  },
  "orig_nbformat": 4,
  "vscode": {
   "interpreter": {
    "hash": "4431ebb243d28931014019d45c92573f9a4ede4327941493f56487c9791a35e0"
   }
  }
 },
 "nbformat": 4,
 "nbformat_minor": 2
}
